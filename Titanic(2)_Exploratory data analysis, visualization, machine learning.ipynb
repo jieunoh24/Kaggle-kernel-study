{
 "cells": [
  {
   "cell_type": "code",
   "execution_count": 1,
   "id": "f4db0e5f",
   "metadata": {},
   "outputs": [
    {
     "data": {
      "text/html": [
       "        <script type=\"text/javascript\">\n",
       "        window.PlotlyConfig = {MathJaxConfig: 'local'};\n",
       "        if (window.MathJax && window.MathJax.Hub && window.MathJax.Hub.Config) {window.MathJax.Hub.Config({SVG: {font: \"STIX-Web\"}});}\n",
       "        if (typeof require !== 'undefined') {\n",
       "        require.undef(\"plotly\");\n",
       "        requirejs.config({\n",
       "            paths: {\n",
       "                'plotly': ['https://cdn.plot.ly/plotly-2.14.0.min']\n",
       "            }\n",
       "        });\n",
       "        require(['plotly'], function(Plotly) {\n",
       "            window._Plotly = Plotly;\n",
       "        });\n",
       "        }\n",
       "        </script>\n",
       "        "
      ]
     },
     "metadata": {},
     "output_type": "display_data"
    }
   ],
   "source": [
    "import numpy as np\n",
    "import pandas as pd\n",
    "from pandas import Series\n",
    "import matplotlib.pyplot as plt\n",
    "import seaborn as sns\n",
    "\n",
    "plt.style.use('seaborn')\n",
    "sns.set(font_scale=2.5) \n",
    "# matplotlib 의 기본 scheme 말고 seaborn scheme 을 세팅하고, 일일이 graph 의 font size 를 지정할 필요 없이 seaborn 의 font_scale 을 사용하면 편합니다.\n",
    "import plotly.offline as py\n",
    "py.init_notebook_mode(connected=True)\n",
    "import plotly.graph_objs as go\n",
    "import plotly.tools as tls\n",
    "\n",
    "#ignore warnings\n",
    "import warnings\n",
    "warnings.filterwarnings('ignore')\n",
    "\n",
    "%matplotlib inline\n",
    "\n",
    "df_train = pd.read_csv('C:/Users/JIEUN OH/OneDrive/바탕 화면/Kaggle_data/Titanic/train.csv')\n",
    "df_test = pd.read_csv('C:/Users/JIEUN OH/OneDrive/바탕 화면/Kaggle_data/Titanic/test.csv')\n",
    "df_train['FamilySize'] = df_train['SibSp'] + df_train['Parch'] + 1 # 자신을 포함해야하니 1을 더합니다\n",
    "df_test['FamilySize'] = df_test['SibSp'] + df_test['Parch'] + 1 # 자신을 포함해야하니 1을 더합니다\n",
    "\n",
    "df_test.loc[df_test.Fare.isnull(), 'Fare'] = df_test['Fare'].mean()\n",
    "\n",
    "df_train['Fare'] = df_train['Fare'].map(lambda i: np.log(i) if i > 0 else 0)\n",
    "df_test['Fare'] = df_test['Fare'].map(lambda i: np.log(i) if i > 0 else 0)"
   ]
  },
  {
   "cell_type": "markdown",
   "id": "8cea643f",
   "metadata": {},
   "source": [
    "## 3. Feature engineering\n",
    "---\n",
    "- 가장 먼저 dataset에 존재하는 null data를 채우려고 한다.\n",
    "- 아무 숫자로 채울 수는 없고, null data를 포함하는 feature의 statistics를 참고하거나 다른 아이디어를 짜내어 채울 수 있다.\n",
    "- null data를 어떻게 채우느냐에 따라 모델 성능이 좌지우지될 수 있기 때문에, 신경써줘야할 부분이다. \n",
    "- **Feature engineering은 실제 모델의 학습에 쓰려고 하는 것이므로 train뿐만 아니라 test도 똑같이 적용해주어야한다.**"
   ]
  },
  {
   "cell_type": "markdown",
   "id": "59304f14",
   "metadata": {},
   "source": [
    "### 3.1 Fill Null\n",
    "---\n",
    "#### 3.1.1 Fill Null in Age using title\n",
    "---\n",
    "- Age에는 null data가 177개나 있다. 이를 채울 수 있는 여러 아이디어가 있을 것인데, 여기서 우리는 title + statistics를 사용해 보겠다.  \n",
    "\n",
    "- 영어에서는 Miss, Mr, Mrs 같은 title이 존재한다. 각 탑승객의 이름에는 곡 이런 title이 들어가게 되는데 이를 사용해보겠다.  \n",
    "\n",
    "- pandas series에는 data를 string으로 바꿔주는 str method, 거기에 정규표현식을 적용하게 해주는 extract method가 있다. 이를 사용하여 title을 쉽게 추출할 수 있다. title을 initial column에 저장하겠다."
   ]
  },
  {
   "cell_type": "code",
   "execution_count": 2,
   "id": "5b26e3b3",
   "metadata": {},
   "outputs": [],
   "source": [
    "# title 추출해서 initial column에 저장\n",
    "df_train['Initial']= df_train.Name.str.extract('([A-Za-z]+)\\.') #lets extract the Salutations\n",
    "    \n",
    "df_test['Initial']= df_test.Name.str.extract('([A-Za-z]+)\\.') #lets extract the Salutations"
   ]
  },
  {
   "cell_type": "markdown",
   "id": "deb1fe39",
   "metadata": {},
   "source": [
    "- 판다스에서 문자열 관련 함수를 사용하거나 전처리 하기 위해서는 str 메소드를 사용해야한다.           \n",
    "그 중 원하는 문자열을 추출하기 위해선 extract 함수가 필요하다."
   ]
  },
  {
   "cell_type": "markdown",
   "id": "4b47a5ee",
   "metadata": {},
   "source": [
    "- pandas의 crosstab을 이용하여 우리가 추출한 Initial과 Sex간의 count를 살펴보자."
   ]
  },
  {
   "cell_type": "code",
   "execution_count": 3,
   "id": "ff3c41c9",
   "metadata": {},
   "outputs": [
    {
     "data": {
      "text/html": [
       "<style type=\"text/css\">\n",
       "#T_8b8ff_row0_col0, #T_8b8ff_row0_col1, #T_8b8ff_row0_col3, #T_8b8ff_row0_col4, #T_8b8ff_row0_col5, #T_8b8ff_row0_col7, #T_8b8ff_row0_col8, #T_8b8ff_row0_col12, #T_8b8ff_row0_col15, #T_8b8ff_row0_col16, #T_8b8ff_row1_col2, #T_8b8ff_row1_col6, #T_8b8ff_row1_col9, #T_8b8ff_row1_col10, #T_8b8ff_row1_col11, #T_8b8ff_row1_col13, #T_8b8ff_row1_col14 {\n",
       "  background-color: #ffff66;\n",
       "  color: #000000;\n",
       "}\n",
       "#T_8b8ff_row0_col2, #T_8b8ff_row0_col6, #T_8b8ff_row0_col9, #T_8b8ff_row0_col10, #T_8b8ff_row0_col11, #T_8b8ff_row0_col13, #T_8b8ff_row0_col14, #T_8b8ff_row1_col0, #T_8b8ff_row1_col1, #T_8b8ff_row1_col3, #T_8b8ff_row1_col4, #T_8b8ff_row1_col5, #T_8b8ff_row1_col7, #T_8b8ff_row1_col8, #T_8b8ff_row1_col12, #T_8b8ff_row1_col15, #T_8b8ff_row1_col16 {\n",
       "  background-color: #008066;\n",
       "  color: #f1f1f1;\n",
       "}\n",
       "</style>\n",
       "<table id=\"T_8b8ff\">\n",
       "  <thead>\n",
       "    <tr>\n",
       "      <th class=\"index_name level0\" >Initial</th>\n",
       "      <th id=\"T_8b8ff_level0_col0\" class=\"col_heading level0 col0\" >Capt</th>\n",
       "      <th id=\"T_8b8ff_level0_col1\" class=\"col_heading level0 col1\" >Col</th>\n",
       "      <th id=\"T_8b8ff_level0_col2\" class=\"col_heading level0 col2\" >Countess</th>\n",
       "      <th id=\"T_8b8ff_level0_col3\" class=\"col_heading level0 col3\" >Don</th>\n",
       "      <th id=\"T_8b8ff_level0_col4\" class=\"col_heading level0 col4\" >Dr</th>\n",
       "      <th id=\"T_8b8ff_level0_col5\" class=\"col_heading level0 col5\" >Jonkheer</th>\n",
       "      <th id=\"T_8b8ff_level0_col6\" class=\"col_heading level0 col6\" >Lady</th>\n",
       "      <th id=\"T_8b8ff_level0_col7\" class=\"col_heading level0 col7\" >Major</th>\n",
       "      <th id=\"T_8b8ff_level0_col8\" class=\"col_heading level0 col8\" >Master</th>\n",
       "      <th id=\"T_8b8ff_level0_col9\" class=\"col_heading level0 col9\" >Miss</th>\n",
       "      <th id=\"T_8b8ff_level0_col10\" class=\"col_heading level0 col10\" >Mlle</th>\n",
       "      <th id=\"T_8b8ff_level0_col11\" class=\"col_heading level0 col11\" >Mme</th>\n",
       "      <th id=\"T_8b8ff_level0_col12\" class=\"col_heading level0 col12\" >Mr</th>\n",
       "      <th id=\"T_8b8ff_level0_col13\" class=\"col_heading level0 col13\" >Mrs</th>\n",
       "      <th id=\"T_8b8ff_level0_col14\" class=\"col_heading level0 col14\" >Ms</th>\n",
       "      <th id=\"T_8b8ff_level0_col15\" class=\"col_heading level0 col15\" >Rev</th>\n",
       "      <th id=\"T_8b8ff_level0_col16\" class=\"col_heading level0 col16\" >Sir</th>\n",
       "    </tr>\n",
       "    <tr>\n",
       "      <th class=\"index_name level0\" >Sex</th>\n",
       "      <th class=\"blank col0\" >&nbsp;</th>\n",
       "      <th class=\"blank col1\" >&nbsp;</th>\n",
       "      <th class=\"blank col2\" >&nbsp;</th>\n",
       "      <th class=\"blank col3\" >&nbsp;</th>\n",
       "      <th class=\"blank col4\" >&nbsp;</th>\n",
       "      <th class=\"blank col5\" >&nbsp;</th>\n",
       "      <th class=\"blank col6\" >&nbsp;</th>\n",
       "      <th class=\"blank col7\" >&nbsp;</th>\n",
       "      <th class=\"blank col8\" >&nbsp;</th>\n",
       "      <th class=\"blank col9\" >&nbsp;</th>\n",
       "      <th class=\"blank col10\" >&nbsp;</th>\n",
       "      <th class=\"blank col11\" >&nbsp;</th>\n",
       "      <th class=\"blank col12\" >&nbsp;</th>\n",
       "      <th class=\"blank col13\" >&nbsp;</th>\n",
       "      <th class=\"blank col14\" >&nbsp;</th>\n",
       "      <th class=\"blank col15\" >&nbsp;</th>\n",
       "      <th class=\"blank col16\" >&nbsp;</th>\n",
       "    </tr>\n",
       "  </thead>\n",
       "  <tbody>\n",
       "    <tr>\n",
       "      <th id=\"T_8b8ff_level0_row0\" class=\"row_heading level0 row0\" >female</th>\n",
       "      <td id=\"T_8b8ff_row0_col0\" class=\"data row0 col0\" >0</td>\n",
       "      <td id=\"T_8b8ff_row0_col1\" class=\"data row0 col1\" >0</td>\n",
       "      <td id=\"T_8b8ff_row0_col2\" class=\"data row0 col2\" >1</td>\n",
       "      <td id=\"T_8b8ff_row0_col3\" class=\"data row0 col3\" >0</td>\n",
       "      <td id=\"T_8b8ff_row0_col4\" class=\"data row0 col4\" >1</td>\n",
       "      <td id=\"T_8b8ff_row0_col5\" class=\"data row0 col5\" >0</td>\n",
       "      <td id=\"T_8b8ff_row0_col6\" class=\"data row0 col6\" >1</td>\n",
       "      <td id=\"T_8b8ff_row0_col7\" class=\"data row0 col7\" >0</td>\n",
       "      <td id=\"T_8b8ff_row0_col8\" class=\"data row0 col8\" >0</td>\n",
       "      <td id=\"T_8b8ff_row0_col9\" class=\"data row0 col9\" >182</td>\n",
       "      <td id=\"T_8b8ff_row0_col10\" class=\"data row0 col10\" >2</td>\n",
       "      <td id=\"T_8b8ff_row0_col11\" class=\"data row0 col11\" >1</td>\n",
       "      <td id=\"T_8b8ff_row0_col12\" class=\"data row0 col12\" >0</td>\n",
       "      <td id=\"T_8b8ff_row0_col13\" class=\"data row0 col13\" >125</td>\n",
       "      <td id=\"T_8b8ff_row0_col14\" class=\"data row0 col14\" >1</td>\n",
       "      <td id=\"T_8b8ff_row0_col15\" class=\"data row0 col15\" >0</td>\n",
       "      <td id=\"T_8b8ff_row0_col16\" class=\"data row0 col16\" >0</td>\n",
       "    </tr>\n",
       "    <tr>\n",
       "      <th id=\"T_8b8ff_level0_row1\" class=\"row_heading level0 row1\" >male</th>\n",
       "      <td id=\"T_8b8ff_row1_col0\" class=\"data row1 col0\" >1</td>\n",
       "      <td id=\"T_8b8ff_row1_col1\" class=\"data row1 col1\" >2</td>\n",
       "      <td id=\"T_8b8ff_row1_col2\" class=\"data row1 col2\" >0</td>\n",
       "      <td id=\"T_8b8ff_row1_col3\" class=\"data row1 col3\" >1</td>\n",
       "      <td id=\"T_8b8ff_row1_col4\" class=\"data row1 col4\" >6</td>\n",
       "      <td id=\"T_8b8ff_row1_col5\" class=\"data row1 col5\" >1</td>\n",
       "      <td id=\"T_8b8ff_row1_col6\" class=\"data row1 col6\" >0</td>\n",
       "      <td id=\"T_8b8ff_row1_col7\" class=\"data row1 col7\" >2</td>\n",
       "      <td id=\"T_8b8ff_row1_col8\" class=\"data row1 col8\" >40</td>\n",
       "      <td id=\"T_8b8ff_row1_col9\" class=\"data row1 col9\" >0</td>\n",
       "      <td id=\"T_8b8ff_row1_col10\" class=\"data row1 col10\" >0</td>\n",
       "      <td id=\"T_8b8ff_row1_col11\" class=\"data row1 col11\" >0</td>\n",
       "      <td id=\"T_8b8ff_row1_col12\" class=\"data row1 col12\" >517</td>\n",
       "      <td id=\"T_8b8ff_row1_col13\" class=\"data row1 col13\" >0</td>\n",
       "      <td id=\"T_8b8ff_row1_col14\" class=\"data row1 col14\" >0</td>\n",
       "      <td id=\"T_8b8ff_row1_col15\" class=\"data row1 col15\" >6</td>\n",
       "      <td id=\"T_8b8ff_row1_col16\" class=\"data row1 col16\" >1</td>\n",
       "    </tr>\n",
       "  </tbody>\n",
       "</table>\n"
      ],
      "text/plain": [
       "<pandas.io.formats.style.Styler at 0x1ef2b5fa3a0>"
      ]
     },
     "execution_count": 3,
     "metadata": {},
     "output_type": "execute_result"
    }
   ],
   "source": [
    "pd.crosstab(df_train.Initial, df_train.Sex).T.style.background_gradient(cmap='summer_r') \n",
    "#Checking the Initials with the Sex"
   ]
  },
  {
   "cell_type": "markdown",
   "id": "d2672c4c",
   "metadata": {},
   "source": [
    "- 위 table을 참고하여 남성, 여성이 쓰는 initial을 구분해보겠다. replace 메소드를 사용하면 특정 데이터 값을 원하는 값으로 치환해준다."
   ]
  },
  {
   "cell_type": "code",
   "execution_count": 5,
   "id": "e96b6623",
   "metadata": {},
   "outputs": [],
   "source": [
    "df_train.Initial.replace(['Mlle','Mme','Ms','Dr','Major','Lady','Countess','Jonkheer','Col','Rev','Capt','Sir','Don', 'Dona'],\n",
    "                        ['Miss','Miss','Miss','Mr','Mr','Mrs','Mrs','Other','Other','Other','Mr','Mr','Mr', 'Mr'],inplace=True)\n",
    "\n",
    "df_test.Initial.replace(['Mlle','Mme','Ms','Dr','Major','Lady','Countess','Jonkheer','Col','Rev','Capt','Sir','Don', 'Dona'],\n",
    "                        ['Miss','Miss','Miss','Mr','Mr','Mrs','Mrs','Other','Other','Other','Mr','Mr','Mr', 'Mr'],inplace=True)"
   ]
  },
  {
   "cell_type": "code",
   "execution_count": 14,
   "id": "d28e4a28",
   "metadata": {},
   "outputs": [
    {
     "data": {
      "text/html": [
       "<div>\n",
       "<style scoped>\n",
       "    .dataframe tbody tr th:only-of-type {\n",
       "        vertical-align: middle;\n",
       "    }\n",
       "\n",
       "    .dataframe tbody tr th {\n",
       "        vertical-align: top;\n",
       "    }\n",
       "\n",
       "    .dataframe thead th {\n",
       "        text-align: right;\n",
       "    }\n",
       "</style>\n",
       "<table border=\"1\" class=\"dataframe\">\n",
       "  <thead>\n",
       "    <tr style=\"text-align: right;\">\n",
       "      <th></th>\n",
       "      <th>PassengerId</th>\n",
       "      <th>Survived</th>\n",
       "      <th>Pclass</th>\n",
       "      <th>Age</th>\n",
       "      <th>SibSp</th>\n",
       "      <th>Parch</th>\n",
       "      <th>Fare</th>\n",
       "      <th>FamilySize</th>\n",
       "    </tr>\n",
       "    <tr>\n",
       "      <th>Initial</th>\n",
       "      <th></th>\n",
       "      <th></th>\n",
       "      <th></th>\n",
       "      <th></th>\n",
       "      <th></th>\n",
       "      <th></th>\n",
       "      <th></th>\n",
       "      <th></th>\n",
       "    </tr>\n",
       "  </thead>\n",
       "  <tbody>\n",
       "    <tr>\n",
       "      <th>Master</th>\n",
       "      <td>414.975000</td>\n",
       "      <td>0.575000</td>\n",
       "      <td>2.625000</td>\n",
       "      <td>4.574167</td>\n",
       "      <td>2.300000</td>\n",
       "      <td>1.375000</td>\n",
       "      <td>3.340710</td>\n",
       "      <td>4.675000</td>\n",
       "    </tr>\n",
       "    <tr>\n",
       "      <th>Miss</th>\n",
       "      <td>411.741935</td>\n",
       "      <td>0.704301</td>\n",
       "      <td>2.284946</td>\n",
       "      <td>21.860000</td>\n",
       "      <td>0.698925</td>\n",
       "      <td>0.537634</td>\n",
       "      <td>3.123713</td>\n",
       "      <td>2.236559</td>\n",
       "    </tr>\n",
       "    <tr>\n",
       "      <th>Mr</th>\n",
       "      <td>455.880907</td>\n",
       "      <td>0.162571</td>\n",
       "      <td>2.381853</td>\n",
       "      <td>32.739609</td>\n",
       "      <td>0.293006</td>\n",
       "      <td>0.151229</td>\n",
       "      <td>2.651507</td>\n",
       "      <td>1.444234</td>\n",
       "    </tr>\n",
       "    <tr>\n",
       "      <th>Mrs</th>\n",
       "      <td>456.393701</td>\n",
       "      <td>0.795276</td>\n",
       "      <td>1.984252</td>\n",
       "      <td>35.981818</td>\n",
       "      <td>0.692913</td>\n",
       "      <td>0.818898</td>\n",
       "      <td>3.443751</td>\n",
       "      <td>2.511811</td>\n",
       "    </tr>\n",
       "    <tr>\n",
       "      <th>Other</th>\n",
       "      <td>564.444444</td>\n",
       "      <td>0.111111</td>\n",
       "      <td>1.666667</td>\n",
       "      <td>45.888889</td>\n",
       "      <td>0.111111</td>\n",
       "      <td>0.111111</td>\n",
       "      <td>2.641605</td>\n",
       "      <td>1.222222</td>\n",
       "    </tr>\n",
       "  </tbody>\n",
       "</table>\n",
       "</div>"
      ],
      "text/plain": [
       "         PassengerId  Survived    Pclass        Age     SibSp     Parch  \\\n",
       "Initial                                                                   \n",
       "Master    414.975000  0.575000  2.625000   4.574167  2.300000  1.375000   \n",
       "Miss      411.741935  0.704301  2.284946  21.860000  0.698925  0.537634   \n",
       "Mr        455.880907  0.162571  2.381853  32.739609  0.293006  0.151229   \n",
       "Mrs       456.393701  0.795276  1.984252  35.981818  0.692913  0.818898   \n",
       "Other     564.444444  0.111111  1.666667  45.888889  0.111111  0.111111   \n",
       "\n",
       "             Fare  FamilySize  \n",
       "Initial                        \n",
       "Master   3.340710    4.675000  \n",
       "Miss     3.123713    2.236559  \n",
       "Mr       2.651507    1.444234  \n",
       "Mrs      3.443751    2.511811  \n",
       "Other    2.641605    1.222222  "
      ]
     },
     "execution_count": 14,
     "metadata": {},
     "output_type": "execute_result"
    }
   ],
   "source": [
    "df_train.groupby('Initial').mean()"
   ]
  },
  {
   "cell_type": "markdown",
   "id": "64a54290",
   "metadata": {},
   "source": [
    "-> 여성과 관계있는 Miss, Mrs가 생존률이 높은 것을 볼 수 있다."
   ]
  },
  {
   "cell_type": "code",
   "execution_count": 6,
   "id": "510ae8e7",
   "metadata": {},
   "outputs": [
    {
     "data": {
      "text/plain": [
       "<AxesSubplot:xlabel='Initial'>"
      ]
     },
     "execution_count": 6,
     "metadata": {},
     "output_type": "execute_result"
    },
    {
     "data": {
      "image/png": "[encoded data removed]",
      "text/plain": [
       "<Figure size 432x288 with 1 Axes>"
      ]
     },
     "metadata": {
      "needs_background": "light"
     },
     "output_type": "display_data"
    }
   ],
   "source": [
    "df_train.groupby('Initial').Survived.mean().plot.bar()"
   ]
  },
  {
   "cell_type": "markdown",
   "id": "583640c2",
   "metadata": {},
   "source": [
    "- 이제 본격적으로 Null을 채울 것이다. null data를 채우는 방법은 정말 많이 존재한다. statistics를 활용하느 방법도 있고, null data가 없는 데이터를 기반으로 새로운 머신러닝 알고리즘을 만들어 예측해서 채워넣는 방식도 있다. 여기서는 statistics를 활용하는 방법을 사용할 것이다.        \n",
    "\n",
    "\n",
    "- 여기서 statistics는 train data의 것을 의미한다. 우리는 언제나 test를 unseen으로 둔 상태로 놔둬야 하며, train에서 얻은 statistics를 기반으로 test의 null data를 채워줘야 한다."
   ]
  },
  {
   "cell_type": "code",
   "execution_count": 16,
   "id": "43be6f39",
   "metadata": {},
   "outputs": [
    {
     "data": {
      "text/html": [
       "<div>\n",
       "<style scoped>\n",
       "    .dataframe tbody tr th:only-of-type {\n",
       "        vertical-align: middle;\n",
       "    }\n",
       "\n",
       "    .dataframe tbody tr th {\n",
       "        vertical-align: top;\n",
       "    }\n",
       "\n",
       "    .dataframe thead th {\n",
       "        text-align: right;\n",
       "    }\n",
       "</style>\n",
       "<table border=\"1\" class=\"dataframe\">\n",
       "  <thead>\n",
       "    <tr style=\"text-align: right;\">\n",
       "      <th></th>\n",
       "      <th>PassengerId</th>\n",
       "      <th>Survived</th>\n",
       "      <th>Pclass</th>\n",
       "      <th>Age</th>\n",
       "      <th>SibSp</th>\n",
       "      <th>Parch</th>\n",
       "      <th>Fare</th>\n",
       "      <th>FamilySize</th>\n",
       "    </tr>\n",
       "    <tr>\n",
       "      <th>Initial</th>\n",
       "      <th></th>\n",
       "      <th></th>\n",
       "      <th></th>\n",
       "      <th></th>\n",
       "      <th></th>\n",
       "      <th></th>\n",
       "      <th></th>\n",
       "      <th></th>\n",
       "    </tr>\n",
       "  </thead>\n",
       "  <tbody>\n",
       "    <tr>\n",
       "      <th>Master</th>\n",
       "      <td>414.975000</td>\n",
       "      <td>0.575000</td>\n",
       "      <td>2.625000</td>\n",
       "      <td>4.574167</td>\n",
       "      <td>2.300000</td>\n",
       "      <td>1.375000</td>\n",
       "      <td>3.340710</td>\n",
       "      <td>4.675000</td>\n",
       "    </tr>\n",
       "    <tr>\n",
       "      <th>Miss</th>\n",
       "      <td>411.741935</td>\n",
       "      <td>0.704301</td>\n",
       "      <td>2.284946</td>\n",
       "      <td>21.860000</td>\n",
       "      <td>0.698925</td>\n",
       "      <td>0.537634</td>\n",
       "      <td>3.123713</td>\n",
       "      <td>2.236559</td>\n",
       "    </tr>\n",
       "    <tr>\n",
       "      <th>Mr</th>\n",
       "      <td>455.880907</td>\n",
       "      <td>0.162571</td>\n",
       "      <td>2.381853</td>\n",
       "      <td>32.739609</td>\n",
       "      <td>0.293006</td>\n",
       "      <td>0.151229</td>\n",
       "      <td>2.651507</td>\n",
       "      <td>1.444234</td>\n",
       "    </tr>\n",
       "    <tr>\n",
       "      <th>Mrs</th>\n",
       "      <td>456.393701</td>\n",
       "      <td>0.795276</td>\n",
       "      <td>1.984252</td>\n",
       "      <td>35.981818</td>\n",
       "      <td>0.692913</td>\n",
       "      <td>0.818898</td>\n",
       "      <td>3.443751</td>\n",
       "      <td>2.511811</td>\n",
       "    </tr>\n",
       "    <tr>\n",
       "      <th>Other</th>\n",
       "      <td>564.444444</td>\n",
       "      <td>0.111111</td>\n",
       "      <td>1.666667</td>\n",
       "      <td>45.888889</td>\n",
       "      <td>0.111111</td>\n",
       "      <td>0.111111</td>\n",
       "      <td>2.641605</td>\n",
       "      <td>1.222222</td>\n",
       "    </tr>\n",
       "  </tbody>\n",
       "</table>\n",
       "</div>"
      ],
      "text/plain": [
       "         PassengerId  Survived    Pclass        Age     SibSp     Parch  \\\n",
       "Initial                                                                   \n",
       "Master    414.975000  0.575000  2.625000   4.574167  2.300000  1.375000   \n",
       "Miss      411.741935  0.704301  2.284946  21.860000  0.698925  0.537634   \n",
       "Mr        455.880907  0.162571  2.381853  32.739609  0.293006  0.151229   \n",
       "Mrs       456.393701  0.795276  1.984252  35.981818  0.692913  0.818898   \n",
       "Other     564.444444  0.111111  1.666667  45.888889  0.111111  0.111111   \n",
       "\n",
       "             Fare  FamilySize  \n",
       "Initial                        \n",
       "Master   3.340710    4.675000  \n",
       "Miss     3.123713    2.236559  \n",
       "Mr       2.651507    1.444234  \n",
       "Mrs      3.443751    2.511811  \n",
       "Other    2.641605    1.222222  "
      ]
     },
     "execution_count": 16,
     "metadata": {},
     "output_type": "execute_result"
    }
   ],
   "source": [
    "df_train.groupby('Initial').mean()"
   ]
  },
  {
   "cell_type": "markdown",
   "id": "05ac58ba",
   "metadata": {},
   "source": [
    "- Age의 평균을 이용해 Null value를 채우도록 하겠다.\n",
    "- pandas dataframe을 다룰 때에는 boolean array를 이용해 indexing하는 방법이 참으로 편리하다\n",
    "- 아래 코드 첫줄을 해석하자면 isnull()이면서 Initial이 Mr인 조건을 만족하는 row(탑승객)의 Age의 값을 33으로 치환하다는 것이다.\n",
    "- loc + boolean + column을 사용해 값을 치환하는 방법은 자주 쓰이므로 꼭 익숙해지자."
   ]
  },
  {
   "cell_type": "code",
   "execution_count": 7,
   "id": "9a6ab665",
   "metadata": {},
   "outputs": [],
   "source": [
    "df_train.loc[(df_train.Age.isnull()) & (df_train.Initial=='Mr'), 'Age'] = 33\n",
    "df_train.loc[(df_train.Age.isnull()) & (df_train.Initial=='Mrs'), 'Age'] = 36\n",
    "df_train.loc[(df_train.Age.isnull()) & (df_train.Initial=='Master'), 'Age'] = 5\n",
    "df_train.loc[(df_train.Age.isnull()) & (df_train.Initial=='Miss'), 'Age'] = 22\n",
    "df_train.loc[(df_train.Age.isnull()) & (df_train.Initial=='Other'), 'Age'] = 46\n",
    "\n",
    "df_test.loc[(df_test.Age.isnull()) & (df_test.Initial=='Mr'), 'Age'] = 33\n",
    "df_test.loc[(df_test.Age.isnull()) & (df_test.Initial=='Mrs'), 'Age'] = 36\n",
    "df_test.loc[(df_test.Age.isnull()) & (df_test.Initial=='Master'), 'Age'] = 5\n",
    "df_test.loc[(df_test.Age.isnull()) & (df_test.Initial=='Miss'), 'Age'] = 22\n",
    "df_test.loc[(df_test.Age.isnull()) & (df_test.Initial=='Other'), 'Age'] = 46"
   ]
  },
  {
   "cell_type": "markdown",
   "id": "8ab1d421",
   "metadata": {},
   "source": [
    "-> 여기선 간단하게 null을 채웠지만 좀 더 다양한 방법을 쓴 예시들이 다른 커널에 존재한다.\n",
    "- https://www.kaggle.com/yassineghouzam/titanic-top-4-with-ensemble-modeling 보면서 공부해보기."
   ]
  },
  {
   "cell_type": "markdown",
   "id": "ec22249d",
   "metadata": {},
   "source": [
    "#### 3.1.2 Fill Null in Embarked\n",
    "---"
   ]
  },
  {
   "cell_type": "code",
   "execution_count": 18,
   "id": "3fc4adaa",
   "metadata": {},
   "outputs": [
    {
     "name": "stdout",
     "output_type": "stream",
     "text": [
      "Embarked has  2  Null values\n"
     ]
    }
   ],
   "source": [
    "print('Embarked has ', sum(df_train.Embarked.isnull()), ' Null values')"
   ]
  },
  {
   "cell_type": "markdown",
   "id": "a5c751a7",
   "metadata": {},
   "source": [
    "-> Embarked는 Null value가 2개이고, S에서 가장 많은 탑승객이 있었으므로, 간단하게 Null을 S로 채우겠다.\n",
    "- dataframe의 fillna method를 이용하면 쉽게 채울 수 있다. 여기서 inplace=True로 하면 df_train에 fillna를 실제로 적용하게 된다."
   ]
  },
  {
   "cell_type": "code",
   "execution_count": 8,
   "id": "583c3bcf",
   "metadata": {},
   "outputs": [],
   "source": [
    "df_train.Embarked.fillna('S', inplace=True)"
   ]
  },
  {
   "cell_type": "markdown",
   "id": "7f65953b",
   "metadata": {},
   "source": [
    "### 3.2 Change Age(continuous to categorical)\n",
    "---\n",
    "- Age는 현재 continuous feature이다. 이대로 써도 모델을 세울 수 있지만, Age를 몇개의 group 으로 나누어 category화 시켜줄 수도 있다. continuous를 categorical로 바꾸면 자칫 information loss가 생길 수도 있지만 본 튜토리얼에서는 다양한 방법을 소개하는 것이 목적이므로 진행하도록 하겠다.\n",
    "\n",
    "- 방법은 여러가지가 있다. dataframe의 indexing 방법인 loc를 사용하여 직접해줄 수 있고, 아니면 apply를 사용해 함수를 넣어줄 수 있다.\n",
    "- 첫번째로 loc를 사용한 방법이다. loc는 자주 쓰게 되므로 그 사용법을 숙지하면 좋겠다.\n",
    "- 나이는 10살 간격으로 나누겠다."
   ]
  },
  {
   "cell_type": "code",
   "execution_count": 9,
   "id": "479898ec",
   "metadata": {},
   "outputs": [],
   "source": [
    "df_train['Age_cat'] = 0\n",
    "df_train.loc[df_train.Age < 10, 'Age_cat'] = 0\n",
    "df_train.loc[(10 <= df_train.Age) & (df_train.Age < 20), 'Age_cat'] = 1\n",
    "df_train.loc[(20 <= df_train.Age) & (df_train.Age < 30), 'Age_cat'] = 2\n",
    "df_train.loc[(30 <= df_train.Age) & (df_train.Age < 40), 'Age_cat'] = 3\n",
    "df_train.loc[(40 <= df_train.Age) & (df_train.Age < 50), 'Age_cat'] = 4\n",
    "df_train.loc[(50 <= df_train.Age) & (df_train.Age < 60), 'Age_cat'] = 5\n",
    "df_train.loc[(60 <= df_train.Age) & (df_train.Age < 70), 'Age_cat'] = 6\n",
    "df_train.loc[70 <= df_train.Age, 'Age_cat'] = 7\n",
    "\n",
    "df_test['Age_cat'] = 0\n",
    "df_test.loc[df_test.Age < 10, 'Age_cat'] = 0\n",
    "df_train.loc[(10 <= df_train.Age) & (df_train.Age < 20), 'Age_cat'] = 1\n",
    "df_train.loc[(20 <= df_train.Age) & (df_train.Age < 30), 'Age_cat'] = 2\n",
    "df_train.loc[(30 <= df_train.Age) & (df_train.Age < 40), 'Age_cat'] = 3\n",
    "df_train.loc[(40 <= df_train.Age) & (df_train.Age < 50), 'Age_cat'] = 4\n",
    "df_train.loc[(50 <= df_train.Age) & (df_train.Age < 60), 'Age_cat'] = 5\n",
    "df_train.loc[(60 <= df_train.Age) & (df_train.Age < 70), 'Age_cat'] = 6\n",
    "df_train.loc[70 <= df_train.Age, 'Age_cat'] = 7"
   ]
  },
  {
   "cell_type": "markdown",
   "id": "73a47702",
   "metadata": {},
   "source": [
    "- 두번째로 간단한 함수를 만들어 apply 메소드에 넣어주는 방법이다.\n",
    "- 훨씬 수월하다."
   ]
  },
  {
   "cell_type": "code",
   "execution_count": 10,
   "id": "35c077d9",
   "metadata": {},
   "outputs": [],
   "source": [
    "def category_age(x):\n",
    "    if x < 10:\n",
    "        return 0\n",
    "    elif x < 20:\n",
    "        return 1\n",
    "    elif x < 30:\n",
    "        return 2\n",
    "    elif x < 40:\n",
    "        return 3\n",
    "    elif x < 50:\n",
    "        return 4\n",
    "    elif x < 60:\n",
    "        return 5\n",
    "    elif x < 70:\n",
    "        return 6\n",
    "    else:\n",
    "        return 7\n",
    "    \n",
    "df_train['Age_cat_2'] = df_train.Age.apply(category_age)"
   ]
  },
  {
   "cell_type": "markdown",
   "id": "0a9d2b42",
   "metadata": {},
   "source": [
    "- 두가지 방법이 잘 적용됐다면, 둘다 같은 결과를 내야한다.\n",
    "- 이를 확인하기 위해 Series간 boolean 비교 후 all() 메소드를 사용한다. \n",
    " > - all(): 모든 값이 True면 True, 하나라도 False가 있으면 False를 준다."
   ]
  },
  {
   "cell_type": "code",
   "execution_count": 13,
   "id": "3e4203a4",
   "metadata": {},
   "outputs": [
    {
     "name": "stdout",
     "output_type": "stream",
     "text": [
      "1번 방법, 2번 방법 둘다 같은 결과를 내면 True 줘야함 ->  True\n"
     ]
    }
   ],
   "source": [
    "print('1번 방법, 2번 방법 둘다 같은 결과를 내면 True 줘야함 -> ', (df_train.Age_cat == df_train.Age_cat_2).all())"
   ]
  },
  {
   "cell_type": "markdown",
   "id": "0c607754",
   "metadata": {},
   "source": [
    "-> True이니 둘 중 편한걸 선택하면 된다.   "
   ]
  },
  {
   "cell_type": "markdown",
   "id": "f726a33c",
   "metadata": {},
   "source": [
    "- 중복되는 Age_cat 컬럼과 원래 컬럼 Age를 제거하겠다."
   ]
  },
  {
   "cell_type": "code",
   "execution_count": 14,
   "id": "db89a59b",
   "metadata": {},
   "outputs": [],
   "source": [
    "df_train.drop(['Age', 'Age_cat_2'], axis=1, inplace=True)\n",
    "df_test.drop(['Age'], axis=1, inplace=True)"
   ]
  },
  {
   "cell_type": "markdown",
   "id": "e92d03d5",
   "metadata": {},
   "source": [
    "### 3.3 Change Initial, Embarked and Sex(string to numerical)\n",
    "---\n",
    "- 현재 Initial은 Mr, Mrs, Miss, Master, Other 총 5개로 이루어져 있다. 이런 카테고리로 표현되어져 있는 데이터를 모델에 인풋으로 넣어줄 때 우리가 해야할 것은 먼저 컴퓨터가 인식할 수 있도록 수치화 시켜야한다.\n",
    "- **map method를 가지고 간단히 할 수 있다.**\n",
    "- 사전 순서대로 정리하여 mapping 하겠다."
   ]
  },
  {
   "cell_type": "code",
   "execution_count": 15,
   "id": "220d4dfa",
   "metadata": {},
   "outputs": [],
   "source": [
    "df_train.Initial = df_train.Initial.map({'Mster':0, 'Miss':1, 'Mr':2, 'Mrs':3, 'Other':4})\n",
    "df_test.Initial = df_test.Initial.map({'Mster':0, 'Miss':1, 'Mr':2, 'Mrs':3, 'Other':4})"
   ]
  },
  {
   "cell_type": "markdown",
   "id": "f580b2d6",
   "metadata": {},
   "source": [
    "- Embarked도 C, Q, S로 이루어져 있다. map을 이용해서 바꿔보겠다.\n",
    "- 그러기 앞서서, 특정 column에 어떤 값들이 있는지 확인해보는 방법을 잠깐 살펴보겠다. 간단히 unique() 메소들 쓰거나, value_counts() 를 써서 count까지 보는 방법이 있다."
   ]
  },
  {
   "cell_type": "code",
   "execution_count": 16,
   "id": "f2aac930",
   "metadata": {},
   "outputs": [
    {
     "data": {
      "text/plain": [
       "array(['S', 'C', 'Q'], dtype=object)"
      ]
     },
     "execution_count": 16,
     "metadata": {},
     "output_type": "execute_result"
    }
   ],
   "source": [
    "df_train.Embarked.unique()"
   ]
  },
  {
   "cell_type": "code",
   "execution_count": 17,
   "id": "1db1ff56",
   "metadata": {},
   "outputs": [
    {
     "data": {
      "text/plain": [
       "S    646\n",
       "C    168\n",
       "Q     77\n",
       "Name: Embarked, dtype: int64"
      ]
     },
     "execution_count": 17,
     "metadata": {},
     "output_type": "execute_result"
    }
   ],
   "source": [
    "df_train.Embarked.value_counts()"
   ]
  },
  {
   "cell_type": "markdown",
   "id": "1d724048",
   "metadata": {},
   "source": [
    "- 위 두 방법을 사용해 Embarked가 S, C, Q 세가지로 이루어진 것을 볼 수도 있다. 이제 map을 사용해보겠다."
   ]
  },
  {
   "cell_type": "code",
   "execution_count": 19,
   "id": "c00e753e",
   "metadata": {},
   "outputs": [],
   "source": [
    "df_train.Embarked = df_train.Embarked.map({'C':0, 'Q':1, 'S':2})\n",
    "df_test.Embarked = df_test.Embarked.map({'C':0, 'Q':1, 'S':2})"
   ]
  },
  {
   "cell_type": "markdown",
   "id": "54796ebc",
   "metadata": {},
   "source": [
    "- 한번 Null이 사라졌는지 확인해보자. Embarked Column만 가져온 것은 하나의 pandas의 series 객체이므로, isnull() 메소드를 사용해 series 값들이 null인지 아닌지에 대한 boolean 값을 얻을 수 있습니다. 그리고 이것에 any를 사용해서 True가 단 하나라도 있을시(null이 한개라도 있을 시) True를 반환해주게 된다. 우리는 Null을 S로 다 바꿔주었으므로 False를 얻게 된다."
   ]
  },
  {
   "cell_type": "code",
   "execution_count": 20,
   "id": "bc7bc95a",
   "metadata": {},
   "outputs": [
    {
     "data": {
      "text/plain": [
       "False"
      ]
     },
     "execution_count": 20,
     "metadata": {},
     "output_type": "execute_result"
    }
   ],
   "source": [
    "df_train.Embarked.isnull().any()"
   ]
  },
  {
   "cell_type": "markdown",
   "id": "9d5cfe2f",
   "metadata": {},
   "source": [
    "- Sex도 Female, Male로 이뤄져 있다. map을 이용해 바꿔보자."
   ]
  },
  {
   "cell_type": "code",
   "execution_count": 21,
   "id": "2d2f391f",
   "metadata": {},
   "outputs": [],
   "source": [
    "df_train.Sex = df_train.Sex.map({'female':0, 'male':1})\n",
    "df_test.Sex = df_test.Sex.map({'female':0, 'male':1})"
   ]
  },
  {
   "cell_type": "markdown",
   "id": "65a75826",
   "metadata": {},
   "source": [
    "- 이제 각 feature 간의 상관관계를 한번 보려고 한다. 두 변수간의 pearson correlation을 구하면 (-1,1) 사이의 값을 얻을 수 있다. "
   ]
  },
  {
   "cell_type": "markdown",
   "id": "4f15dff0",
   "metadata": {},
   "source": [
    "- 우리는 여러 feature를 가지고 있으니 하나의 matrix 형태로 보면 편할 텐데, 이를 heatmap plot이라고 하며, dataframe의 corr()의 메소드와 seaborn을 가지고 편하게 그릴 수 있다."
   ]
  },
  {
   "cell_type": "code",
   "execution_count": 23,
   "id": "455c31ae",
   "metadata": {},
   "outputs": [
    {
     "data": {
      "image/png": "[encoded data removed]",
      "text/plain": [
       "<Figure size 1008x864 with 2 Axes>"
      ]
     },
     "metadata": {
      "needs_background": "light"
     },
     "output_type": "display_data"
    }
   ],
   "source": [
    "heatmap_data = df_train[['Survived', 'Pclass', 'Sex', 'Fare', 'Embarked', 'FamilySize', 'Initial', 'Age_cat']]\n",
    "\n",
    "colormap = plt.cm.RdBu\n",
    "plt.figure(figsize=(14,12))\n",
    "plt.title('Pearson Correlation of Features', y=1.05, size=15)\n",
    "sns.heatmap(heatmap_data.astype(float).corr(), linewidths=0.1, vmax=1.0,\n",
    "           square=True, cmap=colormap, linecolor='white', annot=True, annot_kws={'size':16})\n",
    "\n",
    "del heatmap_data"
   ]
  },
  {
   "cell_type": "markdown",
   "id": "edcf6640",
   "metadata": {},
   "source": [
    "-> 우리가 EDA에서도 살펴봤듯이 Sex와 Pclass가 Survived에 상관관계가 어느 정도 있음을 볼 수 있다.    \n",
    "-> 생각보다 fare와 Embarked도 상관관계가 있음을 볼 수 있다.     \n",
    "-> 서로 강한 상관관계를 가지는 feature들이 없다.              \n",
    "=> 이것은 우리가 모델을 학습시킬 때, 불필요한(redundantk superflous)  feature가 없다는 것을 의미한다.   \n",
    "- 이제 실제로 모델을 학습시키기 앞서 data preprocessing을 진행해보겠다.\n",
    "\n"
   ]
  },
  {
   "cell_type": "markdown",
   "id": "fd9353d6",
   "metadata": {},
   "source": [
    "### 3.4 One-hot encoding on Initial and Embarked\n",
    "---\n",
    "- 수치화시킨 카테고리 데이터를 그대로 넣어도 되지만, 모델의 성능을 높이기 위해 one-hot encoding을 해줄 수 있다.\n",
    "- 수치화는 간단히 Master == 0, Miss == 1, Mr == 2, Mrs == 3, Other == 4로 매핑해주는 것을 말한다. \n",
    "- One-hot encoding은 위 카테고리를 (0, 1)로 이루어진 5차원의 벡터로 나타내는 것을 말한다. \n",
    "- 이 작업을 pandas의 get_dummies 를 사용하여 쉽게 해결할 수 있다. \n",
    "- 총 5개의 카테고리니, one-hot encoding을 하고 나면 새로운 5개의 column이 생겨난다. \n",
    "- Initial을 prefix로 두어서 구분이 쉽게 만들어준다."
   ]
  },
  {
   "cell_type": "code",
   "execution_count": 24,
   "id": "a4dd059f",
   "metadata": {},
   "outputs": [],
   "source": [
    "df_train = pd.get_dummies(df_train, columns=['Initial'], prefix='Initial')\n",
    "df_test = pd.get_dummies(df_test, columns=['Initial'], prefix='Initial')"
   ]
  },
  {
   "cell_type": "code",
   "execution_count": 25,
   "id": "f7a36cbc",
   "metadata": {},
   "outputs": [
    {
     "data": {
      "text/html": [
       "<div>\n",
       "<style scoped>\n",
       "    .dataframe tbody tr th:only-of-type {\n",
       "        vertical-align: middle;\n",
       "    }\n",
       "\n",
       "    .dataframe tbody tr th {\n",
       "        vertical-align: top;\n",
       "    }\n",
       "\n",
       "    .dataframe thead th {\n",
       "        text-align: right;\n",
       "    }\n",
       "</style>\n",
       "<table border=\"1\" class=\"dataframe\">\n",
       "  <thead>\n",
       "    <tr style=\"text-align: right;\">\n",
       "      <th></th>\n",
       "      <th>PassengerId</th>\n",
       "      <th>Survived</th>\n",
       "      <th>Pclass</th>\n",
       "      <th>Name</th>\n",
       "      <th>Sex</th>\n",
       "      <th>SibSp</th>\n",
       "      <th>Parch</th>\n",
       "      <th>Ticket</th>\n",
       "      <th>Fare</th>\n",
       "      <th>Cabin</th>\n",
       "      <th>Embarked</th>\n",
       "      <th>FamilySize</th>\n",
       "      <th>Age_cat</th>\n",
       "      <th>Initial_1.0</th>\n",
       "      <th>Initial_2.0</th>\n",
       "      <th>Initial_3.0</th>\n",
       "      <th>Initial_4.0</th>\n",
       "    </tr>\n",
       "  </thead>\n",
       "  <tbody>\n",
       "    <tr>\n",
       "      <th>0</th>\n",
       "      <td>1</td>\n",
       "      <td>0</td>\n",
       "      <td>3</td>\n",
       "      <td>Braund, Mr. Owen Harris</td>\n",
       "      <td>1</td>\n",
       "      <td>1</td>\n",
       "      <td>0</td>\n",
       "      <td>A/5 21171</td>\n",
       "      <td>1.981001</td>\n",
       "      <td>NaN</td>\n",
       "      <td>2</td>\n",
       "      <td>2</td>\n",
       "      <td>2</td>\n",
       "      <td>0</td>\n",
       "      <td>1</td>\n",
       "      <td>0</td>\n",
       "      <td>0</td>\n",
       "    </tr>\n",
       "    <tr>\n",
       "      <th>1</th>\n",
       "      <td>2</td>\n",
       "      <td>1</td>\n",
       "      <td>1</td>\n",
       "      <td>Cumings, Mrs. John Bradley (Florence Briggs Th...</td>\n",
       "      <td>0</td>\n",
       "      <td>1</td>\n",
       "      <td>0</td>\n",
       "      <td>PC 17599</td>\n",
       "      <td>4.266662</td>\n",
       "      <td>C85</td>\n",
       "      <td>0</td>\n",
       "      <td>2</td>\n",
       "      <td>3</td>\n",
       "      <td>0</td>\n",
       "      <td>0</td>\n",
       "      <td>1</td>\n",
       "      <td>0</td>\n",
       "    </tr>\n",
       "    <tr>\n",
       "      <th>2</th>\n",
       "      <td>3</td>\n",
       "      <td>1</td>\n",
       "      <td>3</td>\n",
       "      <td>Heikkinen, Miss. Laina</td>\n",
       "      <td>0</td>\n",
       "      <td>0</td>\n",
       "      <td>0</td>\n",
       "      <td>STON/O2. 3101282</td>\n",
       "      <td>2.070022</td>\n",
       "      <td>NaN</td>\n",
       "      <td>2</td>\n",
       "      <td>1</td>\n",
       "      <td>2</td>\n",
       "      <td>1</td>\n",
       "      <td>0</td>\n",
       "      <td>0</td>\n",
       "      <td>0</td>\n",
       "    </tr>\n",
       "    <tr>\n",
       "      <th>3</th>\n",
       "      <td>4</td>\n",
       "      <td>1</td>\n",
       "      <td>1</td>\n",
       "      <td>Futrelle, Mrs. Jacques Heath (Lily May Peel)</td>\n",
       "      <td>0</td>\n",
       "      <td>1</td>\n",
       "      <td>0</td>\n",
       "      <td>113803</td>\n",
       "      <td>3.972177</td>\n",
       "      <td>C123</td>\n",
       "      <td>2</td>\n",
       "      <td>2</td>\n",
       "      <td>3</td>\n",
       "      <td>0</td>\n",
       "      <td>0</td>\n",
       "      <td>1</td>\n",
       "      <td>0</td>\n",
       "    </tr>\n",
       "    <tr>\n",
       "      <th>4</th>\n",
       "      <td>5</td>\n",
       "      <td>0</td>\n",
       "      <td>3</td>\n",
       "      <td>Allen, Mr. William Henry</td>\n",
       "      <td>1</td>\n",
       "      <td>0</td>\n",
       "      <td>0</td>\n",
       "      <td>373450</td>\n",
       "      <td>2.085672</td>\n",
       "      <td>NaN</td>\n",
       "      <td>2</td>\n",
       "      <td>1</td>\n",
       "      <td>3</td>\n",
       "      <td>0</td>\n",
       "      <td>1</td>\n",
       "      <td>0</td>\n",
       "      <td>0</td>\n",
       "    </tr>\n",
       "  </tbody>\n",
       "</table>\n",
       "</div>"
      ],
      "text/plain": [
       "   PassengerId  Survived  Pclass  \\\n",
       "0            1         0       3   \n",
       "1            2         1       1   \n",
       "2            3         1       3   \n",
       "3            4         1       1   \n",
       "4            5         0       3   \n",
       "\n",
       "                                                Name  Sex  SibSp  Parch  \\\n",
       "0                            Braund, Mr. Owen Harris    1      1      0   \n",
       "1  Cumings, Mrs. John Bradley (Florence Briggs Th...    0      1      0   \n",
       "2                             Heikkinen, Miss. Laina    0      0      0   \n",
       "3       Futrelle, Mrs. Jacques Heath (Lily May Peel)    0      1      0   \n",
       "4                           Allen, Mr. William Henry    1      0      0   \n",
       "\n",
       "             Ticket      Fare Cabin  Embarked  FamilySize  Age_cat  \\\n",
       "0         A/5 21171  1.981001   NaN         2           2        2   \n",
       "1          PC 17599  4.266662   C85         0           2        3   \n",
       "2  STON/O2. 3101282  2.070022   NaN         2           1        2   \n",
       "3            113803  3.972177  C123         2           2        3   \n",
       "4            373450  2.085672   NaN         2           1        3   \n",
       "\n",
       "   Initial_1.0  Initial_2.0  Initial_3.0  Initial_4.0  \n",
       "0            0            1            0            0  \n",
       "1            0            0            1            0  \n",
       "2            1            0            0            0  \n",
       "3            0            0            1            0  \n",
       "4            0            1            0            0  "
      ]
     },
     "execution_count": 25,
     "metadata": {},
     "output_type": "execute_result"
    }
   ],
   "source": [
    "df_train.head()"
   ]
  },
  {
   "cell_type": "markdown",
   "id": "ed9a372a",
   "metadata": {},
   "source": [
    "- Embarked에도 적용하겠다. Initial때와 마찬가지로 one-hot encoding을 사용해 표현하겠다."
   ]
  },
  {
   "cell_type": "code",
   "execution_count": 26,
   "id": "51647bd3",
   "metadata": {},
   "outputs": [],
   "source": [
    "df_train = pd.get_dummies(df_train, columns=['Embarked'], prefix='Embarked')\n",
    "df_test = pd.get_dummies(df_test, columns=['Embarked'], prefix='Embarked')"
   ]
  },
  {
   "cell_type": "markdown",
   "id": "c89de7a2",
   "metadata": {},
   "source": [
    "- sklearn으로 Labelencoder + OneHotencoder 이용해도 one-hot encoding이 가능하다.\n",
    "- 다른 튜토리얼에서도 한번 써보겠다. 여기서는 get_dummies로 충분히 가능하기 때문에 get_dummies 만으로 끝내겠다.\n",
    "- 가끔 category가 100개가 넘어가는 경우가 있다. 이때 one-hot encoding을 사용하면 column이 100개가 생겨, 학습시 매우 버거울 때가 있다. 이런 경우는 다른 방법을 사용하기도 하는데, 이는 다음에 한번 다뤄보겠다."
   ]
  },
  {
   "cell_type": "markdown",
   "id": "e588f015",
   "metadata": {},
   "source": [
    "### 3.5 Drop columns\n",
    "---\n",
    "- 필요한 columns만 남기고 다 지우겠다."
   ]
  },
  {
   "cell_type": "code",
   "execution_count": 28,
   "id": "db571d6c",
   "metadata": {},
   "outputs": [],
   "source": [
    "df_train.drop(['PassengerId', 'Name', 'SibSp', 'Parch', 'Ticket', 'Cabin'], axis=1, inplace=True)\n",
    "df_test.drop(['PassengerId', 'Name', 'SibSp', 'Parch', 'Ticket', 'Cabin'], axis=1, inplace=True)"
   ]
  },
  {
   "cell_type": "code",
   "execution_count": 29,
   "id": "845912c6",
   "metadata": {},
   "outputs": [
    {
     "data": {
      "text/html": [
       "<div>\n",
       "<style scoped>\n",
       "    .dataframe tbody tr th:only-of-type {\n",
       "        vertical-align: middle;\n",
       "    }\n",
       "\n",
       "    .dataframe tbody tr th {\n",
       "        vertical-align: top;\n",
       "    }\n",
       "\n",
       "    .dataframe thead th {\n",
       "        text-align: right;\n",
       "    }\n",
       "</style>\n",
       "<table border=\"1\" class=\"dataframe\">\n",
       "  <thead>\n",
       "    <tr style=\"text-align: right;\">\n",
       "      <th></th>\n",
       "      <th>Survived</th>\n",
       "      <th>Pclass</th>\n",
       "      <th>Sex</th>\n",
       "      <th>Fare</th>\n",
       "      <th>FamilySize</th>\n",
       "      <th>Age_cat</th>\n",
       "      <th>Initial_1.0</th>\n",
       "      <th>Initial_2.0</th>\n",
       "      <th>Initial_3.0</th>\n",
       "      <th>Initial_4.0</th>\n",
       "      <th>Embarked_0</th>\n",
       "      <th>Embarked_1</th>\n",
       "      <th>Embarked_2</th>\n",
       "    </tr>\n",
       "  </thead>\n",
       "  <tbody>\n",
       "    <tr>\n",
       "      <th>0</th>\n",
       "      <td>0</td>\n",
       "      <td>3</td>\n",
       "      <td>1</td>\n",
       "      <td>1.981001</td>\n",
       "      <td>2</td>\n",
       "      <td>2</td>\n",
       "      <td>0</td>\n",
       "      <td>1</td>\n",
       "      <td>0</td>\n",
       "      <td>0</td>\n",
       "      <td>0</td>\n",
       "      <td>0</td>\n",
       "      <td>1</td>\n",
       "    </tr>\n",
       "    <tr>\n",
       "      <th>1</th>\n",
       "      <td>1</td>\n",
       "      <td>1</td>\n",
       "      <td>0</td>\n",
       "      <td>4.266662</td>\n",
       "      <td>2</td>\n",
       "      <td>3</td>\n",
       "      <td>0</td>\n",
       "      <td>0</td>\n",
       "      <td>1</td>\n",
       "      <td>0</td>\n",
       "      <td>1</td>\n",
       "      <td>0</td>\n",
       "      <td>0</td>\n",
       "    </tr>\n",
       "    <tr>\n",
       "      <th>2</th>\n",
       "      <td>1</td>\n",
       "      <td>3</td>\n",
       "      <td>0</td>\n",
       "      <td>2.070022</td>\n",
       "      <td>1</td>\n",
       "      <td>2</td>\n",
       "      <td>1</td>\n",
       "      <td>0</td>\n",
       "      <td>0</td>\n",
       "      <td>0</td>\n",
       "      <td>0</td>\n",
       "      <td>0</td>\n",
       "      <td>1</td>\n",
       "    </tr>\n",
       "    <tr>\n",
       "      <th>3</th>\n",
       "      <td>1</td>\n",
       "      <td>1</td>\n",
       "      <td>0</td>\n",
       "      <td>3.972177</td>\n",
       "      <td>2</td>\n",
       "      <td>3</td>\n",
       "      <td>0</td>\n",
       "      <td>0</td>\n",
       "      <td>1</td>\n",
       "      <td>0</td>\n",
       "      <td>0</td>\n",
       "      <td>0</td>\n",
       "      <td>1</td>\n",
       "    </tr>\n",
       "    <tr>\n",
       "      <th>4</th>\n",
       "      <td>0</td>\n",
       "      <td>3</td>\n",
       "      <td>1</td>\n",
       "      <td>2.085672</td>\n",
       "      <td>1</td>\n",
       "      <td>3</td>\n",
       "      <td>0</td>\n",
       "      <td>1</td>\n",
       "      <td>0</td>\n",
       "      <td>0</td>\n",
       "      <td>0</td>\n",
       "      <td>0</td>\n",
       "      <td>1</td>\n",
       "    </tr>\n",
       "  </tbody>\n",
       "</table>\n",
       "</div>"
      ],
      "text/plain": [
       "   Survived  Pclass  Sex      Fare  FamilySize  Age_cat  Initial_1.0  \\\n",
       "0         0       3    1  1.981001           2        2            0   \n",
       "1         1       1    0  4.266662           2        3            0   \n",
       "2         1       3    0  2.070022           1        2            1   \n",
       "3         1       1    0  3.972177           2        3            0   \n",
       "4         0       3    1  2.085672           1        3            0   \n",
       "\n",
       "   Initial_2.0  Initial_3.0  Initial_4.0  Embarked_0  Embarked_1  Embarked_2  \n",
       "0            1            0            0           0           0           1  \n",
       "1            0            1            0           1           0           0  \n",
       "2            0            0            0           0           0           1  \n",
       "3            0            1            0           0           0           1  \n",
       "4            1            0            0           0           0           1  "
      ]
     },
     "execution_count": 29,
     "metadata": {},
     "output_type": "execute_result"
    }
   ],
   "source": [
    "df_train.head()"
   ]
  },
  {
   "cell_type": "code",
   "execution_count": 30,
   "id": "543b4d45",
   "metadata": {},
   "outputs": [
    {
     "data": {
      "text/html": [
       "<div>\n",
       "<style scoped>\n",
       "    .dataframe tbody tr th:only-of-type {\n",
       "        vertical-align: middle;\n",
       "    }\n",
       "\n",
       "    .dataframe tbody tr th {\n",
       "        vertical-align: top;\n",
       "    }\n",
       "\n",
       "    .dataframe thead th {\n",
       "        text-align: right;\n",
       "    }\n",
       "</style>\n",
       "<table border=\"1\" class=\"dataframe\">\n",
       "  <thead>\n",
       "    <tr style=\"text-align: right;\">\n",
       "      <th></th>\n",
       "      <th>Pclass</th>\n",
       "      <th>Sex</th>\n",
       "      <th>Fare</th>\n",
       "      <th>FamilySize</th>\n",
       "      <th>Age_cat</th>\n",
       "      <th>Initial_1.0</th>\n",
       "      <th>Initial_2.0</th>\n",
       "      <th>Initial_3.0</th>\n",
       "      <th>Initial_4.0</th>\n",
       "      <th>Embarked_0</th>\n",
       "      <th>Embarked_1</th>\n",
       "      <th>Embarked_2</th>\n",
       "    </tr>\n",
       "  </thead>\n",
       "  <tbody>\n",
       "    <tr>\n",
       "      <th>0</th>\n",
       "      <td>3</td>\n",
       "      <td>1</td>\n",
       "      <td>2.057860</td>\n",
       "      <td>1</td>\n",
       "      <td>0</td>\n",
       "      <td>0</td>\n",
       "      <td>1</td>\n",
       "      <td>0</td>\n",
       "      <td>0</td>\n",
       "      <td>0</td>\n",
       "      <td>1</td>\n",
       "      <td>0</td>\n",
       "    </tr>\n",
       "    <tr>\n",
       "      <th>1</th>\n",
       "      <td>3</td>\n",
       "      <td>0</td>\n",
       "      <td>1.945910</td>\n",
       "      <td>2</td>\n",
       "      <td>0</td>\n",
       "      <td>0</td>\n",
       "      <td>0</td>\n",
       "      <td>1</td>\n",
       "      <td>0</td>\n",
       "      <td>0</td>\n",
       "      <td>0</td>\n",
       "      <td>1</td>\n",
       "    </tr>\n",
       "    <tr>\n",
       "      <th>2</th>\n",
       "      <td>2</td>\n",
       "      <td>1</td>\n",
       "      <td>2.270836</td>\n",
       "      <td>1</td>\n",
       "      <td>0</td>\n",
       "      <td>0</td>\n",
       "      <td>1</td>\n",
       "      <td>0</td>\n",
       "      <td>0</td>\n",
       "      <td>0</td>\n",
       "      <td>1</td>\n",
       "      <td>0</td>\n",
       "    </tr>\n",
       "    <tr>\n",
       "      <th>3</th>\n",
       "      <td>3</td>\n",
       "      <td>1</td>\n",
       "      <td>2.159003</td>\n",
       "      <td>1</td>\n",
       "      <td>0</td>\n",
       "      <td>0</td>\n",
       "      <td>1</td>\n",
       "      <td>0</td>\n",
       "      <td>0</td>\n",
       "      <td>0</td>\n",
       "      <td>0</td>\n",
       "      <td>1</td>\n",
       "    </tr>\n",
       "    <tr>\n",
       "      <th>4</th>\n",
       "      <td>3</td>\n",
       "      <td>0</td>\n",
       "      <td>2.508582</td>\n",
       "      <td>3</td>\n",
       "      <td>0</td>\n",
       "      <td>0</td>\n",
       "      <td>0</td>\n",
       "      <td>1</td>\n",
       "      <td>0</td>\n",
       "      <td>0</td>\n",
       "      <td>0</td>\n",
       "      <td>1</td>\n",
       "    </tr>\n",
       "  </tbody>\n",
       "</table>\n",
       "</div>"
      ],
      "text/plain": [
       "   Pclass  Sex      Fare  FamilySize  Age_cat  Initial_1.0  Initial_2.0  \\\n",
       "0       3    1  2.057860           1        0            0            1   \n",
       "1       3    0  1.945910           2        0            0            0   \n",
       "2       2    1  2.270836           1        0            0            1   \n",
       "3       3    1  2.159003           1        0            0            1   \n",
       "4       3    0  2.508582           3        0            0            0   \n",
       "\n",
       "   Initial_3.0  Initial_4.0  Embarked_0  Embarked_1  Embarked_2  \n",
       "0            0            0           0           1           0  \n",
       "1            1            0           0           0           1  \n",
       "2            0            0           0           1           0  \n",
       "3            0            0           0           0           1  \n",
       "4            1            0           0           0           1  "
      ]
     },
     "execution_count": 30,
     "metadata": {},
     "output_type": "execute_result"
    }
   ],
   "source": [
    "df_test.head()"
   ]
  },
  {
   "cell_type": "markdown",
   "id": "91822395",
   "metadata": {},
   "source": [
    "-> train의 Survived feature(target class)를 빼면 train, test 둘 다 같은 columns를 가진걸 확인할 수 있다."
   ]
  },
  {
   "cell_type": "markdown",
   "id": "d1bc9dc5",
   "metadata": {},
   "source": [
    "## 4. Building machine learning model and prediction using the trained model\n",
    "- 이제 준비가 다 되었으니 sklearn을 사용해 본격적으로 머신러닝 모델을 만들어보자."
   ]
  },
  {
   "cell_type": "code",
   "execution_count": 32,
   "id": "a449f31b",
   "metadata": {},
   "outputs": [],
   "source": [
    "from sklearn.ensemble import RandomForestClassifier\n",
    "from sklearn import metrics\n",
    "from sklearn.model_selection import train_test_split"
   ]
  },
  {
   "cell_type": "markdown",
   "id": "be604a5e",
   "metadata": {},
   "source": [
    "- 지금 타이타닉 문제는 target cass(survived)가 있으며, target class는 0, 1로 이루어져 있으므로 binary classification 문제이다.\n",
    "- 우리가 지금 가지고 있는 train set의 survived를 제외한 input을 가지고 모델을 최적화시켜 각 샘플(탑승객)의 생존유무를 판단하는 모델을 만들어낸다.\n",
    "- 그 후 모델이 학습하지 않았던 test set을 input으로 주어서 test set의 각 샘플(탑승객)의 생존 유무를 예측해본다."
   ]
  },
  {
   "cell_type": "markdown",
   "id": "c46796c2",
   "metadata": {},
   "source": [
    "### 4.1 Preparation - Split dataset into train, valid, test set\n",
    "---\n",
    "- 가장 먼저 학습에 쓰일 데이터와 target label(survived)를 분리한다. drop을 사용해 간단히 할 수 있다."
   ]
  },
  {
   "cell_type": "code",
   "execution_count": 33,
   "id": "5ae66e5b",
   "metadata": {},
   "outputs": [],
   "source": [
    "X_train = df_train.drop('Survived', axis=1).values\n",
    "target_label = df_train.Survived.values\n",
    "X_test = df_test.values"
   ]
  },
  {
   "cell_type": "markdown",
   "id": "9296fcc9",
   "metadata": {},
   "source": [
    "- 보통 train, test만 언급되지만 실제 좋은 모델을 만들기 위해서 우리는 valid set을 따로 만들어 모델 평가를 해본다.\n",
    "- train_test_split을 사용하여 쉽게 train셋을 분리할 수 있다."
   ]
  },
  {
   "cell_type": "code",
   "execution_count": 34,
   "id": "5650209a",
   "metadata": {},
   "outputs": [],
   "source": [
    "X_tr, X_vld, y_tr, y_vld = train_test_split(X_train, target_label, test_size=0.3, random_state=2018)"
   ]
  },
  {
   "cell_type": "markdown",
   "id": "41c29872",
   "metadata": {},
   "source": [
    "- 본 튜토리얼에서는 랜덤포레스트 모델을 사용하도록 하겠다.\n",
    "- 랜덤포레스트는 결정트리기반 모델이며, 여러 결정 트리들을 앙상블한 모델이다. \n",
    "- 각 머신러닝 알고리즘에는 여러 파라미터들이 있다. 랜덤포레스트 분류기도 n_estimators, max_features, max_depth, min_samples_split, min_samples_leaf 등 여러 파리미터들이 존재한다. 이것들이 어떻게 세팅되냐에 따라 같은 데이터셋이라 하더라도 모델의 성능이 달라진다.\n",
    "- 일단 지금은 튜토리얼이니 파라미터 튜닝은 잠시 제쳐두고, 기본 default 세팅으로 진행하겠다.\n",
    "- 모델 객체를 만들고, fit 메소드로 학습시킨다.\n",
    "- 그런 후 valid set input을 넣어주어 예측값(X_vld sample(탑승객)의 생존여부)를 얻는다."
   ]
  },
  {
   "cell_type": "markdown",
   "id": "9d147dec",
   "metadata": {},
   "source": [
    "### 4.2 Model generation and prediction\n",
    "---"
   ]
  },
  {
   "cell_type": "code",
   "execution_count": 35,
   "id": "01f9a262",
   "metadata": {},
   "outputs": [],
   "source": [
    "model = RandomForestClassifier()\n",
    "model.fit(X_tr, y_tr)\n",
    "prediction = model.predict(X_vld)"
   ]
  },
  {
   "cell_type": "markdown",
   "id": "50844d67",
   "metadata": {},
   "source": [
    "- 모델의 성능을 살펴보기"
   ]
  },
  {
   "cell_type": "code",
   "execution_count": 37,
   "id": "eccdefcf",
   "metadata": {},
   "outputs": [
    {
     "name": "stdout",
     "output_type": "stream",
     "text": [
      "총 268명 중 82.46% 정확도로 생존을 맞춤\n"
     ]
    }
   ],
   "source": [
    "print('총 {}명 중 {:.2f}% 정확도로 생존을 맞춤'.format(y_vld.shape[0], 100*metrics.accuracy_score(prediction, y_vld)))"
   ]
  },
  {
   "cell_type": "markdown",
   "id": "b12eb3d2",
   "metadata": {},
   "source": [
    "-> 아무런 파라미터 튜닝도 하지 않았는데 82%의 정확도가 나왔다."
   ]
  },
  {
   "cell_type": "markdown",
   "id": "4c7f192b",
   "metadata": {},
   "source": [
    "### 4.3 Feature importance\n",
    "---\n",
    "- 학습된 모델은 feature importance를 가지게 되는데, 우리는 이것을 확인하여 지금 만든 모델이 어떤 feature에 영향을 많이 받았는지 확인할 수 있다.\n",
    "- 학습된 모델은 기본적으로 feature importances를 가지고 있어서 쉽게 그 수치를 얻을 수 있다.\n",
    "- pandas series를 이용하면 쉽게 sorting을 하여 그래프를 그릴 수 있다."
   ]
  },
  {
   "cell_type": "code",
   "execution_count": 38,
   "id": "2d7cca7d",
   "metadata": {},
   "outputs": [],
   "source": [
    "from pandas import Series\n",
    "\n",
    "feature_importance = model.feature_importances_\n",
    "Series_feat_imp = Series(feature_importance, index=df_test.columns)"
   ]
  },
  {
   "cell_type": "code",
   "execution_count": 40,
   "id": "be24d833",
   "metadata": {},
   "outputs": [
    {
     "data": {
      "image/png": "[encoded data removed]",
      "text/plain": [
       "<Figure size 576x576 with 1 Axes>"
      ]
     },
     "metadata": {
      "needs_background": "light"
     },
     "output_type": "display_data"
    }
   ],
   "source": [
    "plt.figure(figsize=(8,8))\n",
    "Series_feat_imp.sort_values(ascending=True).plot.barh()\n",
    "plt.xlabel('Feature importance')\n",
    "plt.ylabel('Feature')\n",
    "plt.show()"
   ]
  },
  {
   "cell_type": "markdown",
   "id": "ff3b4a8f",
   "metadata": {},
   "source": [
    "-> 우리가 얻은 모델에서는 Fare가 가장 큰 영향력을 가지며 그 뒤로 Initial_2, Age_cat, Pclass가 차례대로 중요도를 가진다.\n",
    "- 만약 다른 모델을 사용하게 되면 feature importance가 다르게 나올 수 있다.               \n",
    "\n",
    "-> 이 feature importance 를 보고 실제로 Fare 가 중요한 feature일 수 있다고 판단을 내릴 수는 있지만, 이것은 결국 모델에 귀속되는 하나의 결론이므로 통계적으로 좀 더 살펴보긴 해야한다.\n",
    "- feature importance를 가지고 좀 더 정확도가 높은 모델을 얻기 위해 feature selection을 할 수도 있고, 좀 더 빠른 모델을 위해 feature를 제거할 수도 있다."
   ]
  },
  {
   "cell_type": "markdown",
   "id": "a17172e9",
   "metadata": {},
   "source": [
    "### 4.4 Prediction on Test set\n",
    "- 이제 모델이 학습하지 않았던 테스트셋을 모델에 주어서 생존여부를 예측해보겠다.\n",
    "- 이 결과는 실제로 submission 이므로 결과는 leaderboard에서 확인할 수 있다."
   ]
  },
  {
   "cell_type": "code",
   "execution_count": null,
   "id": "dcafb807",
   "metadata": {},
   "outputs": [],
   "source": [
    "submission = pd.read_csv('../input/gender_submission.csv')\n",
    "submission.head()"
   ]
  },
  {
   "cell_type": "markdown",
   "id": "a40af217",
   "metadata": {},
   "source": [
    "- 이제 테스트셋에 대하여 예측을 하고, 결과를 csv 파일로 저장해보겠다."
   ]
  },
  {
   "cell_type": "code",
   "execution_count": null,
   "id": "37ac3e07",
   "metadata": {},
   "outputs": [],
   "source": [
    "prediction = model.predict(X_test)\n",
    "submission['Survived'] = prediction"
   ]
  },
  {
   "cell_type": "code",
   "execution_count": null,
   "id": "716863bf",
   "metadata": {},
   "outputs": [],
   "source": [
    "submission.to_csv('./my_first_submission.csv', index=False)"
   ]
  }
 ],
 "metadata": {
  "kernelspec": {
   "display_name": "Python 3",
   "language": "python",
   "name": "python3"
  },
  "language_info": {
   "codemirror_mode": {
    "name": "ipython",
    "version": 3
   },
   "file_extension": ".py",
   "mimetype": "text/x-python",
   "name": "python",
   "nbconvert_exporter": "python",
   "pygments_lexer": "ipython3",
   "version": "3.8.8"
  }
 },
 "nbformat": 4,
 "nbformat_minor": 5
}
